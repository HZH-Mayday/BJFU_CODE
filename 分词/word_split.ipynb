{
 "cells": [
  {
   "cell_type": "code",
   "execution_count": 1,
   "metadata": {
    "collapsed": true
   },
   "outputs": [],
   "source": [
    "import pandas as pd\n",
    "import numpy as np"
   ]
  },
  {
   "cell_type": "code",
   "execution_count": 2,
   "metadata": {
    "collapsed": true
   },
   "outputs": [],
   "source": [
    "#打开文件数据\n",
    "line = \"C:/Users/Administrator/Desktop/word_dealing/\"\n",
    "exam = pd.read_csv(line+\"product_keywords_example.csv\",encoding = \"gbk\")\n",
    "data = pd.read_excel(line+\"data20180521.xlsx\",encoding = \"gbk\")"
   ]
  },
  {
   "cell_type": "code",
   "execution_count": 3,
   "metadata": {
    "collapsed": false
   },
   "outputs": [
    {
     "data": {
      "text/html": [
       "<div>\n",
       "<table border=\"1\" class=\"dataframe\">\n",
       "  <thead>\n",
       "    <tr style=\"text-align: right;\">\n",
       "      <th></th>\n",
       "      <th>季度</th>\n",
       "      <th>CODE</th>\n",
       "      <th>COUNTRY_NAME</th>\n",
       "      <th>T1</th>\n",
       "      <th>T2</th>\n",
       "      <th>T3</th>\n",
       "      <th>PRODUCT</th>\n",
       "      <th>展商</th>\n",
       "    </tr>\n",
       "  </thead>\n",
       "  <tbody>\n",
       "    <tr>\n",
       "      <th>0</th>\n",
       "      <td>Q1</td>\n",
       "      <td>S10012261</td>\n",
       "      <td>Turkey</td>\n",
       "      <td>Home Products</td>\n",
       "      <td>Bathroom Products</td>\n",
       "      <td>Towel Racks</td>\n",
       "      <td>Wangel towel hook without drilling</td>\n",
       "      <td>温州温洁尔家居用品有限公司</td>\n",
       "    </tr>\n",
       "    <tr>\n",
       "      <th>1</th>\n",
       "      <td>Q1</td>\n",
       "      <td>S10013275</td>\n",
       "      <td>Turkey</td>\n",
       "      <td>Textiles &amp; Garments</td>\n",
       "      <td>Fabric &amp; Yarn</td>\n",
       "      <td>Fabric</td>\n",
       "      <td>Printing hollan velvet</td>\n",
       "      <td>杭州杰拉进出口有限公司</td>\n",
       "    </tr>\n",
       "    <tr>\n",
       "      <th>2</th>\n",
       "      <td>Q1</td>\n",
       "      <td>S10014162</td>\n",
       "      <td>Poland</td>\n",
       "      <td>Textiles &amp; Garments</td>\n",
       "      <td>Home Textile</td>\n",
       "      <td>Bedding Set</td>\n",
       "      <td>Super Soft Flower Printed Polyester Winter Min...</td>\n",
       "      <td>常熟市鑫弘纺织品贸易有限公司</td>\n",
       "    </tr>\n",
       "    <tr>\n",
       "      <th>3</th>\n",
       "      <td>Q1</td>\n",
       "      <td>S10014161</td>\n",
       "      <td>Poland</td>\n",
       "      <td>Medical Devices</td>\n",
       "      <td>Medical Supplies</td>\n",
       "      <td>Band-aids</td>\n",
       "      <td>Plaster of Paris Bandage</td>\n",
       "      <td>安吉宏德医疗用品有限公司</td>\n",
       "    </tr>\n",
       "    <tr>\n",
       "      <th>4</th>\n",
       "      <td>Q1</td>\n",
       "      <td>S10003213</td>\n",
       "      <td>Mexico</td>\n",
       "      <td>Consumer Electronics</td>\n",
       "      <td>Mobile Phone and Peripheral Accessories</td>\n",
       "      <td>Headset</td>\n",
       "      <td>Ear-hook sport bluetooth earphones</td>\n",
       "      <td>深圳市博贝特科技发展有限公司</td>\n",
       "    </tr>\n",
       "  </tbody>\n",
       "</table>\n",
       "</div>"
      ],
      "text/plain": [
       "   季度       CODE COUNTRY_NAME                    T1  \\\n",
       "0  Q1  S10012261       Turkey         Home Products   \n",
       "1  Q1  S10013275       Turkey   Textiles & Garments   \n",
       "2  Q1  S10014162       Poland   Textiles & Garments   \n",
       "3  Q1  S10014161       Poland       Medical Devices   \n",
       "4  Q1  S10003213       Mexico  Consumer Electronics   \n",
       "\n",
       "                                        T2           T3  \\\n",
       "0                        Bathroom Products  Towel Racks   \n",
       "1                            Fabric & Yarn       Fabric   \n",
       "2                             Home Textile  Bedding Set   \n",
       "3                         Medical Supplies    Band-aids   \n",
       "4  Mobile Phone and Peripheral Accessories      Headset   \n",
       "\n",
       "                                             PRODUCT              展商  \n",
       "0                Wangel towel hook without drilling    温州温洁尔家居用品有限公司  \n",
       "1                             Printing hollan velvet     杭州杰拉进出口有限公司  \n",
       "2  Super Soft Flower Printed Polyester Winter Min...  常熟市鑫弘纺织品贸易有限公司  \n",
       "3                           Plaster of Paris Bandage    安吉宏德医疗用品有限公司  \n",
       "4                 Ear-hook sport bluetooth earphones  深圳市博贝特科技发展有限公司  "
      ]
     },
     "execution_count": 3,
     "metadata": {},
     "output_type": "execute_result"
    }
   ],
   "source": [
    "data.head()"
   ]
  },
  {
   "cell_type": "code",
   "execution_count": 4,
   "metadata": {
    "collapsed": true
   },
   "outputs": [],
   "source": [
    "import nltk"
   ]
  },
  {
   "cell_type": "code",
   "execution_count": 5,
   "metadata": {
    "collapsed": true
   },
   "outputs": [],
   "source": [
    "#提取产品的名称\n",
    "product = data[\"PRODUCT\"].values"
   ]
  },
  {
   "cell_type": "code",
   "execution_count": 6,
   "metadata": {
    "collapsed": false
   },
   "outputs": [
    {
     "data": {
      "text/plain": [
       "u'Wangel towel hook without drilling '"
      ]
     },
     "execution_count": 6,
     "metadata": {},
     "output_type": "execute_result"
    }
   ],
   "source": [
    "#sentences = nltk.sent_tokenize(product[0])\n",
    "#sentences\n",
    "product[0]"
   ]
  },
  {
   "cell_type": "code",
   "execution_count": 7,
   "metadata": {
    "collapsed": false
   },
   "outputs": [],
   "source": [
    "from nltk.corpus import stopwords"
   ]
  },
  {
   "cell_type": "code",
   "execution_count": 8,
   "metadata": {
    "collapsed": false
   },
   "outputs": [
    {
     "data": {
      "text/plain": [
       "[u'Wangel', u'towel', u'hook', u'without', u'drilling']"
      ]
     },
     "execution_count": 8,
     "metadata": {},
     "output_type": "execute_result"
    }
   ],
   "source": [
    "disease_List = nltk.word_tokenize(product[0])\n",
    "disease_List"
   ]
  },
  {
   "cell_type": "code",
   "execution_count": 9,
   "metadata": {
    "collapsed": true
   },
   "outputs": [],
   "source": [
    "filtered = [w for w in disease_List if w not in stopwords.words('english')]\n",
    "Rfiltered =nltk.pos_tag(filtered)"
   ]
  },
  {
   "cell_type": "code",
   "execution_count": 10,
   "metadata": {
    "collapsed": false
   },
   "outputs": [
    {
     "data": {
      "text/plain": [
       "[(u'Wangel', 'NNP'),\n",
       " (u'towel', 'NN'),\n",
       " (u'hook', 'NN'),\n",
       " (u'without', 'IN'),\n",
       " (u'drilling', 'NN')]"
      ]
     },
     "execution_count": 10,
     "metadata": {},
     "output_type": "execute_result"
    }
   ],
   "source": [
    "Rfiltered"
   ]
  },
  {
   "cell_type": "code",
   "execution_count": 11,
   "metadata": {
    "collapsed": true
   },
   "outputs": [],
   "source": [
    "def filter_words(list_tuple_couple):\n",
    "    #循环剔除介词，组词等\n",
    "    words_list = []\n",
    "    for index,tuples in  enumerate(list_tuple_couple):\n",
    "        if list_tuple_couple[index][1] not in [\"IN\",\"JJ\",\"CC\",\"JJR\",\"JJS\",\"NNP\"]:\n",
    "            word = list_tuple_couple[index][0]\n",
    "            words_list.append(word)\n",
    "    return words_list[::-1]     "
   ]
  },
  {
   "cell_type": "code",
   "execution_count": 12,
   "metadata": {
    "collapsed": true
   },
   "outputs": [],
   "source": [
    "import itertools"
   ]
  },
  {
   "cell_type": "code",
   "execution_count": 18,
   "metadata": {
    "collapsed": true
   },
   "outputs": [],
   "source": [
    "def per_comb(words_list):\n",
    "    combine_words_list = []\n",
    "    #外循环是按照最后分词结果的数量来做排列组合\n",
    "    for comb_n in range(2,len(words_list)):\n",
    "        for i in itertools.combinations(words_list,comb_n):\n",
    "            combine_words_2 = \" \".join(i)\n",
    "            combine_words_list.append(combine_words_2)\n",
    "    return combine_words_list[::-1]"
   ]
  },
  {
   "cell_type": "code",
   "execution_count": 19,
   "metadata": {
    "collapsed": false
   },
   "outputs": [
    {
     "name": "stdout",
     "output_type": "stream",
     "text": [
      "[u'velvet', u'hollan', u'Printing']\n",
      "[u'hollan Printing', u'velvet Printing', u'velvet hollan']\n"
     ]
    }
   ],
   "source": [
    "for i in range(len(product[:1])):\n",
    "    disease_List = np.unique(nltk.word_tokenize(product[i+1]))\n",
    "    filtered = [w for w in disease_List if w not in stopwords.words('english')]\n",
    "    Rfiltered = nltk.pos_tag(filtered)\n",
    "    words_list = filter_words(Rfiltered)\n",
    "    print words_list\n",
    "    combine_list = per_comb(words_list)\n",
    "    print combine_list"
   ]
  },
  {
   "cell_type": "code",
   "execution_count": null,
   "metadata": {
    "collapsed": true
   },
   "outputs": [],
   "source": []
  },
  {
   "cell_type": "code",
   "execution_count": null,
   "metadata": {
    "collapsed": true
   },
   "outputs": [],
   "source": []
  }
 ],
 "metadata": {
  "kernelspec": {
   "display_name": "Python 2",
   "language": "python",
   "name": "python2"
  },
  "language_info": {
   "codemirror_mode": {
    "name": "ipython",
    "version": 2
   },
   "file_extension": ".py",
   "mimetype": "text/x-python",
   "name": "python",
   "nbconvert_exporter": "python",
   "pygments_lexer": "ipython2",
   "version": "2.7.11"
  }
 },
 "nbformat": 4,
 "nbformat_minor": 0
}
