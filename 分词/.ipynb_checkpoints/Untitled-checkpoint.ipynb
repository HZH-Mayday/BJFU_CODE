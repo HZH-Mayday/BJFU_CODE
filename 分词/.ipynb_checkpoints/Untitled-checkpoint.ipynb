{
 "cells": [
  {
   "cell_type": "code",
   "execution_count": 13,
   "metadata": {
    "collapsed": true
   },
   "outputs": [],
   "source": [
    "import pandas as pd\n",
    "import numpy as np\n",
    "import nltk\n",
    "from nltk.corpus import stopwords\n",
    "import itertools"
   ]
  },
  {
   "cell_type": "code",
   "execution_count": 19,
   "metadata": {
    "collapsed": true
   },
   "outputs": [],
   "source": [
    "data = pd.read_excel(\"C:/Users/Administrator/Desktop/word_dealing/data20180521.xlsx\",encoding = 'gbk')"
   ]
  },
  {
   "cell_type": "code",
   "execution_count": 2,
   "metadata": {
    "collapsed": true
   },
   "outputs": [],
   "source": [
    "df = pd.read_excel(\"C:/Users/Administrator/Desktop/RFQ collectin .xls\",sheetname=0).iloc[:,1:]"
   ]
  },
  {
   "cell_type": "code",
   "execution_count": 3,
   "metadata": {
    "collapsed": false
   },
   "outputs": [],
   "source": [
    "product = df[df.iloc[:,0] == \"Product Detail Description\"].iloc[:,1].values"
   ]
  },
  {
   "cell_type": "code",
   "execution_count": 4,
   "metadata": {
    "collapsed": true
   },
   "outputs": [],
   "source": [
    "def translate_lower(product_words):\n",
    "        '''把大写的字母转化为小写的,有可能还有数字\n",
    "        product_words是一个产品分割字符串后的列表'''\n",
    "        for index,word in enumerate(product_words):\n",
    "            try:\n",
    "                product_words[index] = word.lower()\n",
    "            except AttributeError:\n",
    "                continue\n",
    "        return product_words"
   ]
  },
  {
   "cell_type": "code",
   "execution_count": 8,
   "metadata": {
    "collapsed": true
   },
   "outputs": [],
   "source": [
    "def filter_words(list_tuple_couple):\n",
    "        '''list_tuple_couple是元组对列表.......[('a','NN'),('b','NJ')] '''\n",
    "        # 循环剔除介词，组词等\n",
    "        words_list = []  # 返回的数据列表\n",
    "        for index, tuples in enumerate(list_tuple_couple):\n",
    "            filter_words_type = [\"IN\", \"JJ\", \"CC\",\"CD\",\"POS\", \"JJR\", \"JJS\",\"RB\",\"RBS\",\"RBR\",\"RP\",\"VBG\",\"VB\",\"VBD\",\"VBP\",\"VBZ\",\n",
    "                                 \"DT\",\"MD\",'PDT',\"#\",\"$\",\",\",\".\",\":\"]  # 想要剔除的数据类型\n",
    "            # 选择未在filter_words_type中的数据\n",
    "            if list_tuple_couple[index][1] not in filter_words_type:\n",
    "                word = list_tuple_couple[index][0]\n",
    "                words_list.append(word)\n",
    "        return words_list"
   ]
  },
  {
   "cell_type": "code",
   "execution_count": 11,
   "metadata": {
    "collapsed": true
   },
   "outputs": [],
   "source": [
    "def per_comb(words_list):\n",
    "        '''对剔除垃圾词汇后的列表进行排列组合'''\n",
    "        combine_words_list = []\n",
    "\n",
    "        # 判断是否剔除垃圾词汇后，列表数据如果只有一个，直接添加结果\n",
    "        if len(words_list) == 1:\n",
    "            combine_words_list.append(words_list[0])\n",
    "        else:\n",
    "            # 外循环是按照最后分词结果的数量来做排列组合,至少是\n",
    "            for comb_n in range(2,len(words_list)+1):\n",
    "                # 进行排列组合\n",
    "                for i in itertools.combinations(words_list, comb_n):\n",
    "                    combine_words_2 = \" \".join(i)\n",
    "                    combine_words_list.append(combine_words_2)\n",
    "\n",
    "        return combine_words_list"
   ]
  },
  {
   "cell_type": "code",
   "execution_count": 14,
   "metadata": {
    "collapsed": false
   },
   "outputs": [],
   "source": [
    "disease_List = nltk.word_tokenize(product[0])  # 产生出的分词\n",
    "# 去除重复的分词，并且按照原来的顺序排列\n",
    "if len(np.unique(disease_List)) != len(disease_List):\n",
    "    new_disease_List = list(set(disease_List))\n",
    "    new_disease_List.sort(key=disease_List.index)\n",
    "else:\n",
    "    new_disease_List = disease_List\n",
    "\n",
    "filtered = [w for w in new_disease_List if w not in stopwords.words('english')]  # 去除停用词汇\n",
    "filtered = translate_lower(filtered)\n",
    "Rfiltered = nltk.pos_tag(filtered)  # 标记每一个词汇的词性\n",
    "words_list = filter_words(Rfiltered)  # 调用帅选想要的单词\n",
    "combine_list = per_comb(words_list)  # 对单词排列组合"
   ]
  },
  {
   "cell_type": "code",
   "execution_count": 31,
   "metadata": {
    "collapsed": false
   },
   "outputs": [],
   "source": [
    "#选择有专属名词\n",
    "word_filtered = []\n",
    "for t_c in Rfiltered:\n",
    "    if t_c[1] in [\"NN\",\"NNS\",\"NNP\",\"NNPS\"]:\n",
    "        word_filtered.append(t_c[0])\n",
    "word_filtered = word_filtered[::-1][:3]"
   ]
  },
  {
   "cell_type": "code",
   "execution_count": 35,
   "metadata": {
    "collapsed": false
   },
   "outputs": [],
   "source": [
    "index_n = []    #选择商家的index\n",
    "w_thea = [2/3.0,1/4.0,1/12.0]\n",
    "#寻找产品的\n",
    "for i,w in enumerate(data[\"PRODUCT\"]):\n",
    "    w_l = w.lower()\n",
    "    thea_sum = 0   #每一个商品的权重\n",
    "    for i_list,N in enumerate(word_filtered):\n",
    "        if N in w_l:\n",
    "            thea_sum+=w_thea[i_list]\n",
    "    if thea_sum > 0.5:\n",
    "        index_n.append(i)                 "
   ]
  },
  {
   "cell_type": "code",
   "execution_count": 36,
   "metadata": {
    "collapsed": false
   },
   "outputs": [],
   "source": [
    "data.iloc[index_n,[6,7]].to_csv(\"C:/Users/Administrator/Desktop/result_supplier.csv\",encoding = 'gbk')"
   ]
  },
  {
   "cell_type": "code",
   "execution_count": null,
   "metadata": {
    "collapsed": false
   },
   "outputs": [],
   "source": []
  },
  {
   "cell_type": "code",
   "execution_count": null,
   "metadata": {
    "collapsed": true
   },
   "outputs": [],
   "source": []
  }
 ],
 "metadata": {
  "kernelspec": {
   "display_name": "Python 2",
   "language": "python",
   "name": "python2"
  },
  "language_info": {
   "codemirror_mode": {
    "name": "ipython",
    "version": 2
   },
   "file_extension": ".py",
   "mimetype": "text/x-python",
   "name": "python",
   "nbconvert_exporter": "python",
   "pygments_lexer": "ipython2",
   "version": "2.7.11"
  }
 },
 "nbformat": 4,
 "nbformat_minor": 0
}
