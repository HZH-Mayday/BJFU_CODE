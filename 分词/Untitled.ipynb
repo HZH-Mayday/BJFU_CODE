{
 "cells": [
  {
   "cell_type": "code",
   "execution_count": 49,
   "metadata": {
    "collapsed": true
   },
   "outputs": [],
   "source": [
    "import pandas as pd\n",
    "import numpy as np\n",
    "import nltk\n",
    "from nltk.corpus import stopwords\n",
    "import itertools\n",
    "import re"
   ]
  },
  {
   "cell_type": "code",
   "execution_count": 19,
   "metadata": {
    "collapsed": true
   },
   "outputs": [],
   "source": [
    "data = pd.read_excel(\"C:/Users/Administrator/Desktop/word_dealing/data20180521.xlsx\",encoding = 'gbk')"
   ]
  },
  {
   "cell_type": "code",
   "execution_count": 37,
   "metadata": {
    "collapsed": true
   },
   "outputs": [],
   "source": [
    "df = pd.read_excel(\"C:/Users/Administrator/Desktop/RFQ collectin .xls\",sheetname=1).iloc[:,1:]"
   ]
  },
  {
   "cell_type": "code",
   "execution_count": 38,
   "metadata": {
    "collapsed": false
   },
   "outputs": [],
   "source": [
    "product = df[df.iloc[:,0] == \"Product Detail Description\"].iloc[:,1].values"
   ]
  },
  {
   "cell_type": "code",
   "execution_count": 39,
   "metadata": {
    "collapsed": true
   },
   "outputs": [],
   "source": [
    "def translate_lower(product_words):\n",
    "        '''把大写的字母转化为小写的,有可能还有数字\n",
    "        product_words是一个产品分割字符串后的列表'''\n",
    "        for index,word in enumerate(product_words):\n",
    "            try:\n",
    "                product_words[index] = word.lower()\n",
    "            except AttributeError:\n",
    "                continue\n",
    "        return product_words"
   ]
  },
  {
   "cell_type": "code",
   "execution_count": 40,
   "metadata": {
    "collapsed": true
   },
   "outputs": [],
   "source": [
    "def filter_words(list_tuple_couple):\n",
    "        '''list_tuple_couple是元组对列表.......[('a','NN'),('b','NJ')] '''\n",
    "        # 循环剔除介词，组词等\n",
    "        words_list = []  # 返回的数据列表\n",
    "        for index, tuples in enumerate(list_tuple_couple):\n",
    "            filter_words_type = [\"IN\", \"JJ\", \"CC\",\"CD\",\"POS\", \"JJR\", \"JJS\",\"RB\",\"RBS\",\"RBR\",\"RP\",\"VBG\",\"VB\",\"VBD\",\"VBP\",\"VBZ\",\n",
    "                                 \"DT\",\"MD\",'PDT',\"#\",\"$\",\",\",\".\",\":\"]  # 想要剔除的数据类型\n",
    "            # 选择未在filter_words_type中的数据\n",
    "            if list_tuple_couple[index][1] not in filter_words_type:\n",
    "                word = list_tuple_couple[index][0]\n",
    "                words_list.append(word)\n",
    "        return words_list"
   ]
  },
  {
   "cell_type": "code",
   "execution_count": 42,
   "metadata": {
    "collapsed": false
   },
   "outputs": [],
   "source": [
    "disease_List = nltk.word_tokenize(product[0])  # 产生出的分词\n",
    "# 去除重复的分词，并且按照原来的顺序排列\n",
    "if len(np.unique(disease_List)) != len(disease_List):\n",
    "    new_disease_List = list(set(disease_List))\n",
    "    new_disease_List.sort(key=disease_List.index)\n",
    "else:\n",
    "    new_disease_List = disease_List\n",
    "\n",
    "filtered = [w for w in new_disease_List if w not in stopwords.words('english')]  # 去除停用词汇\n",
    "filtered = translate_lower(filtered)\n",
    "Rfiltered = nltk.pos_tag(filtered)  # 标记每一个词汇的词性\n",
    "words_list = filter_words(Rfiltered)  # 调用帅选想要的单词"
   ]
  },
  {
   "cell_type": "code",
   "execution_count": 43,
   "metadata": {
    "collapsed": false
   },
   "outputs": [],
   "source": [
    "#选择有专属名词\n",
    "word_filtered = []\n",
    "for t_c in Rfiltered:\n",
    "    if t_c[1] in [\"NN\",\"NNS\",\"NNP\",\"NNPS\"]:\n",
    "        word_filtered.append(t_c[0])\n",
    "word_filtered = word_filtered[::-1][:3]"
   ]
  },
  {
   "cell_type": "code",
   "execution_count": 50,
   "metadata": {
    "collapsed": false
   },
   "outputs": [],
   "source": [
    "index_n = []    #选择商家的index\n",
    "w_thea = [2/3.0,1/4.0,1/12.0]\n",
    "#寻找产品的\n",
    "for i,w in enumerate(data[\"PRODUCT\"]):\n",
    "    w_l = w.lower()\n",
    "    thea_sum = 0   #每一个商品的权重\n",
    "    for i_list,N in enumerate(word_filtered):\n",
    "        #用正则匹配，例子：因为 light 能匹配 flight\n",
    "        pattern = re.compile(\"^\"+N+\"| \"+N)\n",
    "        if pattern.search(w_l) is not None:\n",
    "            thea_sum+=w_thea[i_list]\n",
    "    if thea_sum > 0.5:\n",
    "        index_n.append(i)                 "
   ]
  },
  {
   "cell_type": "code",
   "execution_count": 51,
   "metadata": {
    "collapsed": false
   },
   "outputs": [],
   "source": [
    "data.iloc[index_n,[6,7]].to_csv(\"C:/Users/Administrator/Desktop/result_supplier.csv\",encoding = 'gbk')"
   ]
  },
  {
   "cell_type": "code",
   "execution_count": 46,
   "metadata": {
    "collapsed": false
   },
   "outputs": [
    {
     "data": {
      "text/html": [
       "<div>\n",
       "<table border=\"1\" class=\"dataframe\">\n",
       "  <thead>\n",
       "    <tr style=\"text-align: right;\">\n",
       "      <th></th>\n",
       "      <th>Unnamed: 1</th>\n",
       "      <th>Unnamed: 2</th>\n",
       "    </tr>\n",
       "  </thead>\n",
       "  <tbody>\n",
       "    <tr>\n",
       "      <th>0</th>\n",
       "      <td>NaN</td>\n",
       "      <td>NaN</td>\n",
       "    </tr>\n",
       "    <tr>\n",
       "      <th>1</th>\n",
       "      <td>Request For Quotation List</td>\n",
       "      <td>NaN</td>\n",
       "    </tr>\n",
       "    <tr>\n",
       "      <th>2</th>\n",
       "      <td>Contact Information</td>\n",
       "      <td>NaN</td>\n",
       "    </tr>\n",
       "    <tr>\n",
       "      <th>3</th>\n",
       "      <td>First Name</td>\n",
       "      <td>Eugeniusz</td>\n",
       "    </tr>\n",
       "    <tr>\n",
       "      <th>4</th>\n",
       "      <td>Last Name</td>\n",
       "      <td>Borowka</td>\n",
       "    </tr>\n",
       "    <tr>\n",
       "      <th>5</th>\n",
       "      <td>E-mail</td>\n",
       "      <td>info@bowi.com.pl</td>\n",
       "    </tr>\n",
       "    <tr>\n",
       "      <th>6</th>\n",
       "      <td>Company Name</td>\n",
       "      <td>PHU Bowi</td>\n",
       "    </tr>\n",
       "    <tr>\n",
       "      <th>7</th>\n",
       "      <td>Country</td>\n",
       "      <td>Poland</td>\n",
       "    </tr>\n",
       "    <tr>\n",
       "      <th>8</th>\n",
       "      <td>Product Information</td>\n",
       "      <td>NaN</td>\n",
       "    </tr>\n",
       "    <tr>\n",
       "      <th>9</th>\n",
       "      <td>Product Name</td>\n",
       "      <td>LED Lighting</td>\n",
       "    </tr>\n",
       "    <tr>\n",
       "      <th>10</th>\n",
       "      <td>Product Category</td>\n",
       "      <td>Lighting&gt;Homelighting&gt;Lamp</td>\n",
       "    </tr>\n",
       "    <tr>\n",
       "      <th>11</th>\n",
       "      <td>Product Detail Description</td>\n",
       "      <td>LED Lighting</td>\n",
       "    </tr>\n",
       "    <tr>\n",
       "      <th>12</th>\n",
       "      <td>Purchase Quantity</td>\n",
       "      <td>10 000</td>\n",
       "    </tr>\n",
       "    <tr>\n",
       "      <th>13</th>\n",
       "      <td>Purchase Buget</td>\n",
       "      <td>&lt;30 000</td>\n",
       "    </tr>\n",
       "    <tr>\n",
       "      <th>14</th>\n",
       "      <td>Currency</td>\n",
       "      <td>USD</td>\n",
       "    </tr>\n",
       "    <tr>\n",
       "      <th>15</th>\n",
       "      <td>Supplier Certification requirement</td>\n",
       "      <td>NaN</td>\n",
       "    </tr>\n",
       "  </tbody>\n",
       "</table>\n",
       "</div>"
      ],
      "text/plain": [
       "                            Unnamed: 1                  Unnamed: 2\n",
       "0                                  NaN                         NaN\n",
       "1           Request For Quotation List                         NaN\n",
       "2                 Contact Information                          NaN\n",
       "3                           First Name                   Eugeniusz\n",
       "4                            Last Name                     Borowka\n",
       "5                               E-mail            info@bowi.com.pl\n",
       "6                         Company Name                    PHU Bowi\n",
       "7                              Country                      Poland\n",
       "8                 Product Information                          NaN\n",
       "9                         Product Name                LED Lighting\n",
       "10                    Product Category  Lighting>Homelighting>Lamp\n",
       "11          Product Detail Description                LED Lighting\n",
       "12                   Purchase Quantity                      10 000\n",
       "13                      Purchase Buget                     <30 000\n",
       "14                            Currency                         USD\n",
       "15  Supplier Certification requirement                         NaN"
      ]
     },
     "execution_count": 46,
     "metadata": {},
     "output_type": "execute_result"
    }
   ],
   "source": [
    "df"
   ]
  },
  {
   "cell_type": "code",
   "execution_count": 48,
   "metadata": {
    "collapsed": false
   },
   "outputs": [
    {
     "data": {
      "text/plain": [
       "[(u'led', 'VBN'), (u'lighting', 'NN')]"
      ]
     },
     "execution_count": 48,
     "metadata": {},
     "output_type": "execute_result"
    }
   ],
   "source": [
    "Rfiltered"
   ]
  },
  {
   "cell_type": "code",
   "execution_count": null,
   "metadata": {
    "collapsed": true
   },
   "outputs": [],
   "source": []
  }
 ],
 "metadata": {
  "kernelspec": {
   "display_name": "Python 2",
   "language": "python",
   "name": "python2"
  },
  "language_info": {
   "codemirror_mode": {
    "name": "ipython",
    "version": 2
   },
   "file_extension": ".py",
   "mimetype": "text/x-python",
   "name": "python",
   "nbconvert_exporter": "python",
   "pygments_lexer": "ipython2",
   "version": "2.7.11"
  }
 },
 "nbformat": 4,
 "nbformat_minor": 0
}
