{
 "cells": [
  {
   "cell_type": "code",
   "execution_count": 1,
   "metadata": {
    "collapsed": true
   },
   "outputs": [],
   "source": [
    "import pandas as pd\n",
    "import numpy as np\n",
    "from pandas import Series,DataFrame"
   ]
  },
  {
   "cell_type": "code",
   "execution_count": 2,
   "metadata": {
    "collapsed": false
   },
   "outputs": [],
   "source": [
    "#Series(data,index=index),\n",
    "#index默认就是按顺序的整数\n",
    "#data数据类型可以是  列表，numpy列表，一个标量，一个字典\n",
    "data = Series([1,2,3,4])\n",
    "data1 = Series({\"a\":1,\"b\":2,\"c\":3,\"d\":4,\"e\":5},index = [\"a\",\"b\",\"c\",\"d\"])      #字典的键值就是index,后面的index参数是选择指定的指标\n",
    "data2 = Series(5,index=[0,1,2,3])"
   ]
  },
  {
   "cell_type": "code",
   "execution_count": 3,
   "metadata": {
    "collapsed": false
   },
   "outputs": [
    {
     "name": "stdout",
     "output_type": "stream",
     "text": [
      "True\n",
      "Index(['a', 'b', 'c', 'd'], dtype='object')\n",
      "[('a', 1), ('b', 2), ('c', 3), ('d', 4)]\n"
     ]
    }
   ],
   "source": [
    "#可以用python字典的方式选取\n",
    "print(\"a\" in data1)           #True\n",
    "print(data1.keys())           #选择data1的index\n",
    "print(list(data1.items()))    #键值对"
   ]
  },
  {
   "cell_type": "code",
   "execution_count": 4,
   "metadata": {
    "collapsed": false
   },
   "outputs": [
    {
     "name": "stdout",
     "output_type": "stream",
     "text": [
      "a    1\n",
      "b    2\n",
      "c    3\n",
      "d    4\n",
      "dtype: int64\n",
      "a    1\n",
      "b    2\n",
      "c    3\n",
      "d    4\n",
      "dtype: int64\n"
     ]
    },
    {
     "data": {
      "text/plain": [
       "a    1\n",
       "b    2\n",
       "dtype: int64"
      ]
     },
     "execution_count": 4,
     "metadata": {},
     "output_type": "execute_result"
    }
   ],
   "source": [
    "#显示性index，包含切片末尾的索引\n",
    "print (data1[\"a\":\"d\"])\n",
    "#隐示性index，和列表数组一样\n",
    "print (data1[:4])\n",
    "#布尔型掩码\n",
    "data1[(data1>=2)&(data1<=4)]\n",
    "#花式索引\n",
    "data1[[\"a\",\"b\"]]"
   ]
  },
  {
   "cell_type": "code",
   "execution_count": 5,
   "metadata": {
    "collapsed": false
   },
   "outputs": [
    {
     "name": "stdout",
     "output_type": "stream",
     "text": [
      "1    a\n",
      "3    b\n",
      "dtype: object\n",
      "1    a\n",
      "3    b\n",
      "dtype: object\n"
     ]
    }
   ],
   "source": [
    "#隐示和显示索引的区别  loc（显示）,iloc（隐示）,ix（混合）\n",
    "\"\"\" loc,iloc,ix [行，列]，[行]\"\"\"\n",
    "data = Series(list(\"abcde\"),index = [1,3,5,7,9])\n",
    "print (data.loc[1:3])       #显示索引\n",
    "print (data.iloc[:2])         #隐示索引"
   ]
  },
  {
   "cell_type": "code",
   "execution_count": 6,
   "metadata": {
    "collapsed": false
   },
   "outputs": [
    {
     "name": "stdout",
     "output_type": "stream",
     "text": [
      "[[ 0  1  2  3]\n",
      " [ 4  5  6  7]\n",
      " [ 8  9 10 11]]\n"
     ]
    }
   ],
   "source": [
    "#DataFrame转变成narray\n",
    "data = DataFrame(np.arange(12).reshape(3,4),columns = list(\"abcd\"),index = [1,3,5])\n",
    "print(data.values)"
   ]
  },
  {
   "cell_type": "code",
   "execution_count": 7,
   "metadata": {
    "collapsed": false
   },
   "outputs": [
    {
     "name": "stdout",
     "output_type": "stream",
     "text": [
      "   a   d\n",
      "3  4   7\n",
      "5  8  11\n",
      "   a   d\n",
      "3  4   7\n",
      "5  8  11\n"
     ]
    }
   ],
   "source": [
    "###切片，花式，布尔掩码，\n",
    "print (data.loc[data[\"a\"]>1,[\"a\",\"d\"]])     #loc可以花式，布尔掩码一起使用\n",
    "print (data.iloc[1:,[0,3]])                 #iloc可以花式，不可以布尔掩码"
   ]
  },
  {
   "cell_type": "code",
   "execution_count": 8,
   "metadata": {
    "collapsed": false
   },
   "outputs": [
    {
     "name": "stdout",
     "output_type": "stream",
     "text": [
      "1    0\n",
      "3    4\n",
      "5    8\n",
      "Name: a, dtype: int32\n",
      "   a  b  c  d\n",
      "1  0  1  2  3\n",
      "3  4  5  6  7\n",
      "   a  b   c   d\n",
      "3  4  5   6   7\n",
      "5  8  9  10  11\n"
     ]
    }
   ],
   "source": [
    "###其他提数的方式\n",
    "print (data[\"a\"])        #单个标签值  选取的是列\n",
    "print (data[:2])         #多个标签切片  选取的是行\n",
    "print (data[data[\"a\"]>1])    #布尔掩码  选取的也是行"
   ]
  },
  {
   "cell_type": "code",
   "execution_count": 9,
   "metadata": {
    "collapsed": false
   },
   "outputs": [],
   "source": [
    "####Frame或Series同类的数据运算\n",
    "#是运用DataFrame的属性方法，DataFrame.add(，，fill_value=？)处理缺失值的时候\n",
    "#sub(),div(),mul(),floordiv(),pow()\n",
    "\n",
    "####dataframe和Series之间的数据运算\"\"\"\n",
    "#计算时保留索引，和numpy 计算类似 广播的方式"
   ]
  },
  {
   "cell_type": "code",
   "execution_count": 10,
   "metadata": {
    "collapsed": false
   },
   "outputs": [
    {
     "data": {
      "text/plain": [
       "0    1.0\n",
       "2    2.0\n",
       "4    3.0\n",
       "5    4.0\n",
       "dtype: float64"
      ]
     },
     "execution_count": 10,
     "metadata": {},
     "output_type": "execute_result"
    }
   ],
   "source": [
    "#处理缺失值的方式\n",
    "#DataFrame.isnull(),notnull(),dropna(),fillna()\n",
    "data = Series([1,None,2,None,3,4])\n",
    "data.fillna(0)    #全部以0填充\n",
    "data.fillna(method = \"ffill\")      #向前填充数据，向后填充数据参数是 \"bfill\"\n",
    "data.dropna()     #去除所有的缺失值，DataFrame中默剔除所有行，用axis调整；how=\"all\"表示剔除所有是np.nan的行或列；"
   ]
  },
  {
   "cell_type": "code",
   "execution_count": 11,
   "metadata": {
    "collapsed": false
   },
   "outputs": [
    {
     "data": {
      "text/html": [
       "<div>\n",
       "<table border=\"1\" class=\"dataframe\">\n",
       "  <thead>\n",
       "    <tr style=\"text-align: right;\">\n",
       "      <th></th>\n",
       "      <th>a</th>\n",
       "      <th>b</th>\n",
       "      <th>c</th>\n",
       "      <th>d</th>\n",
       "    </tr>\n",
       "  </thead>\n",
       "  <tbody>\n",
       "    <tr>\n",
       "      <th>2000</th>\n",
       "      <td>0</td>\n",
       "      <td>1</td>\n",
       "      <td>2</td>\n",
       "      <td>3</td>\n",
       "    </tr>\n",
       "    <tr>\n",
       "      <th>2001</th>\n",
       "      <td>4</td>\n",
       "      <td>5</td>\n",
       "      <td>6</td>\n",
       "      <td>7</td>\n",
       "    </tr>\n",
       "    <tr>\n",
       "      <th>2002</th>\n",
       "      <td>8</td>\n",
       "      <td>9</td>\n",
       "      <td>10</td>\n",
       "      <td>11</td>\n",
       "    </tr>\n",
       "  </tbody>\n",
       "</table>\n",
       "</div>"
      ],
      "text/plain": [
       "      a  b   c   d\n",
       "2000  0  1   2   3\n",
       "2001  4  5   6   7\n",
       "2002  8  9  10  11"
      ]
     },
     "execution_count": 11,
     "metadata": {},
     "output_type": "execute_result"
    }
   ],
   "source": [
    "#DataFrame，多索引的Series相互转变\n",
    "data1 = DataFrame(np.arange(12).reshape(3,4),columns = list(\"abcd\"),index = np.arange(2000,2003))\n",
    "data1.stack()    #转变为多索引的Series,参数level在多重索引中使用\n",
    "data1.stack().unstack()     #多索引的Series转变为DataFrame"
   ]
  },
  {
   "cell_type": "code",
   "execution_count": 15,
   "metadata": {
    "collapsed": false
   },
   "outputs": [
    {
     "name": "stdout",
     "output_type": "stream",
     "text": [
      "MultiIndex(levels=[['a', 'b'], [1, 2]],\n",
      "           labels=[[0, 0, 1, 1], [0, 1, 0, 1]])\n",
      "MultiIndex(levels=[['a', 'b'], [1, 2]],\n",
      "           labels=[[0, 0, 1, 1], [0, 1, 0, 1]])\n",
      "MultiIndex(levels=[['a', 'b'], [0, 1]],\n",
      "           labels=[[0, 0, 1, 1], [0, 1, 0, 1]])\n",
      "MultiIndex(levels=[['a', 'b'], [1, 2]],\n",
      "           labels=[[0, 0, 1, 1], [0, 1, 0, 1]])\n"
     ]
    },
    {
     "data": {
      "text/html": [
       "<div>\n",
       "<table border=\"1\" class=\"dataframe\">\n",
       "  <thead>\n",
       "    <tr>\n",
       "      <th></th>\n",
       "      <th></th>\n",
       "      <th colspan=\"2\" halign=\"left\">it</th>\n",
       "      <th colspan=\"2\" halign=\"left\">he</th>\n",
       "      <th colspan=\"2\" halign=\"left\">she</th>\n",
       "    </tr>\n",
       "    <tr>\n",
       "      <th></th>\n",
       "      <th></th>\n",
       "      <th>temp</th>\n",
       "      <th>hr</th>\n",
       "      <th>temp</th>\n",
       "      <th>hr</th>\n",
       "      <th>temp</th>\n",
       "      <th>hr</th>\n",
       "    </tr>\n",
       "  </thead>\n",
       "  <tbody>\n",
       "    <tr>\n",
       "      <th rowspan=\"2\" valign=\"top\">a</th>\n",
       "      <th>1</th>\n",
       "      <td>5</td>\n",
       "      <td>4</td>\n",
       "      <td>3</td>\n",
       "      <td>7</td>\n",
       "      <td>5</td>\n",
       "      <td>7</td>\n",
       "    </tr>\n",
       "    <tr>\n",
       "      <th>2</th>\n",
       "      <td>7</td>\n",
       "      <td>9</td>\n",
       "      <td>6</td>\n",
       "      <td>2</td>\n",
       "      <td>5</td>\n",
       "      <td>6</td>\n",
       "    </tr>\n",
       "    <tr>\n",
       "      <th rowspan=\"2\" valign=\"top\">b</th>\n",
       "      <th>1</th>\n",
       "      <td>4</td>\n",
       "      <td>8</td>\n",
       "      <td>6</td>\n",
       "      <td>8</td>\n",
       "      <td>5</td>\n",
       "      <td>4</td>\n",
       "    </tr>\n",
       "    <tr>\n",
       "      <th>2</th>\n",
       "      <td>1</td>\n",
       "      <td>3</td>\n",
       "      <td>5</td>\n",
       "      <td>6</td>\n",
       "      <td>3</td>\n",
       "      <td>1</td>\n",
       "    </tr>\n",
       "  </tbody>\n",
       "</table>\n",
       "</div>"
      ],
      "text/plain": [
       "      it      he     she   \n",
       "    temp hr temp hr temp hr\n",
       "a 1    5  4    3  7    5  7\n",
       "  2    7  9    6  2    5  6\n",
       "b 1    4  8    6  8    5  4\n",
       "  2    1  3    5  6    3  1"
      ]
     },
     "execution_count": 15,
     "metadata": {},
     "output_type": "execute_result"
    }
   ],
   "source": [
    "#创建多重索引的方式\n",
    "index = pd.MultiIndex(levels=[[\"a\",\"b\"],[1,2]],labels=[[0,0,1,1],[0,1,0,1]])\n",
    "columns = pd.MultiIndex.from_product([[\"it\",\"he\",\"she\"],[\"temp\",\"hr\"]])\n",
    "print (pd.MultiIndex(levels=[[\"a\",\"b\"],[1,2]],labels=[[0,0,1,1],[0,1,0,1]]))\n",
    "print (pd.MultiIndex.from_arrays([[\"a\",\"a\",\"b\",\"b\"],[1,2,1,2]]) )\n",
    "print (pd.MultiIndex.from_tuples([(\"a\",0),(\"a\",1),(\"b\",0),(\"b\",1)]) )\n",
    "print (pd.MultiIndex.from_product([[\"a\",\"b\"],[1,2]]) )\n",
    "\n",
    "#接着直接创建DataFrame,也可以在列上创建多维数据\n",
    "data = DataFrame(np.random.randint(1,10,(4,6)),index = index,columns = columns)\n",
    "data"
   ]
  },
  {
   "cell_type": "code",
   "execution_count": 16,
   "metadata": {
    "collapsed": false
   },
   "outputs": [
    {
     "data": {
      "text/html": [
       "<div>\n",
       "<table border=\"1\" class=\"dataframe\">\n",
       "  <thead>\n",
       "    <tr>\n",
       "      <th></th>\n",
       "      <th></th>\n",
       "      <th colspan=\"2\" halign=\"left\">it</th>\n",
       "      <th colspan=\"2\" halign=\"left\">he</th>\n",
       "      <th colspan=\"2\" halign=\"left\">she</th>\n",
       "    </tr>\n",
       "    <tr>\n",
       "      <th></th>\n",
       "      <th></th>\n",
       "      <th>temp</th>\n",
       "      <th>hr</th>\n",
       "      <th>temp</th>\n",
       "      <th>hr</th>\n",
       "      <th>temp</th>\n",
       "      <th>hr</th>\n",
       "    </tr>\n",
       "  </thead>\n",
       "  <tbody>\n",
       "    <tr>\n",
       "      <th rowspan=\"2\" valign=\"top\">a</th>\n",
       "      <th>1</th>\n",
       "      <td>5</td>\n",
       "      <td>4</td>\n",
       "      <td>3</td>\n",
       "      <td>7</td>\n",
       "      <td>5</td>\n",
       "      <td>7</td>\n",
       "    </tr>\n",
       "    <tr>\n",
       "      <th>2</th>\n",
       "      <td>7</td>\n",
       "      <td>9</td>\n",
       "      <td>6</td>\n",
       "      <td>2</td>\n",
       "      <td>5</td>\n",
       "      <td>6</td>\n",
       "    </tr>\n",
       "    <tr>\n",
       "      <th rowspan=\"2\" valign=\"top\">b</th>\n",
       "      <th>1</th>\n",
       "      <td>4</td>\n",
       "      <td>8</td>\n",
       "      <td>6</td>\n",
       "      <td>8</td>\n",
       "      <td>5</td>\n",
       "      <td>4</td>\n",
       "    </tr>\n",
       "    <tr>\n",
       "      <th>2</th>\n",
       "      <td>1</td>\n",
       "      <td>3</td>\n",
       "      <td>5</td>\n",
       "      <td>6</td>\n",
       "      <td>3</td>\n",
       "      <td>1</td>\n",
       "    </tr>\n",
       "  </tbody>\n",
       "</table>\n",
       "</div>"
      ],
      "text/plain": [
       "      it      he     she   \n",
       "    temp hr temp hr temp hr\n",
       "a 1    5  4    3  7    5  7\n",
       "  2    7  9    6  2    5  6\n",
       "b 1    4  8    6  8    5  4\n",
       "  2    1  3    5  6    3  1"
      ]
     },
     "execution_count": 16,
     "metadata": {},
     "output_type": "execute_result"
    }
   ],
   "source": [
    "#多维数据的索取\n",
    "data[\"he\",\"hr\"]\n",
    "data.iloc[:2,[0,1,2]]   #iloc是常规的选择，按照顺序\n",
    "\n",
    "#loc的选择方法很不一样\n",
    "data.loc[:,\"she\"]    #可行，错误方式[:,[\"he\",\"she\"]] , [:,\"he\":\"she\"]\n",
    "data.loc[\"a\":\"b\",:]   #可行"
   ]
  },
  {
   "cell_type": "code",
   "execution_count": 18,
   "metadata": {
    "collapsed": false
   },
   "outputs": [
    {
     "data": {
      "text/html": [
       "<div>\n",
       "<table border=\"1\" class=\"dataframe\">\n",
       "  <thead>\n",
       "    <tr>\n",
       "      <th></th>\n",
       "      <th></th>\n",
       "      <th>he</th>\n",
       "      <th>it</th>\n",
       "      <th>she</th>\n",
       "    </tr>\n",
       "    <tr>\n",
       "      <th></th>\n",
       "      <th></th>\n",
       "      <th>hr</th>\n",
       "      <th>hr</th>\n",
       "      <th>hr</th>\n",
       "    </tr>\n",
       "  </thead>\n",
       "  <tbody>\n",
       "    <tr>\n",
       "      <th>a</th>\n",
       "      <th>1</th>\n",
       "      <td>7</td>\n",
       "      <td>4</td>\n",
       "      <td>7</td>\n",
       "    </tr>\n",
       "    <tr>\n",
       "      <th>b</th>\n",
       "      <th>1</th>\n",
       "      <td>8</td>\n",
       "      <td>8</td>\n",
       "      <td>4</td>\n",
       "    </tr>\n",
       "  </tbody>\n",
       "</table>\n",
       "</div>"
      ],
      "text/plain": [
       "    he it she\n",
       "    hr hr  hr\n",
       "a 1  7  4   7\n",
       "b 1  8  8   4"
      ]
     },
     "execution_count": 18,
     "metadata": {},
     "output_type": "execute_result"
    }
   ],
   "source": [
    "idx = pd.IndexSlice  #创建一个分隔方式\n",
    "\n",
    "#######若想执行这一步必须得对内外索引进行排序！！！！！！！！！！，不然会出错\n",
    "#所以多重索引必须先把索引排序\n",
    "data = data.sort_index(axis=1)\n",
    "data.loc[idx[:,1],idx[:,\"hr\"]]        "
   ]
  },
  {
   "cell_type": "code",
   "execution_count": 28,
   "metadata": {
    "collapsed": false
   },
   "outputs": [
    {
     "data": {
      "text/plain": [
       "1    1\n",
       "2    2\n",
       "0    3\n",
       "5    4\n",
       "3    5\n",
       "4    8\n",
       "dtype: int64"
      ]
     },
     "execution_count": 28,
     "metadata": {},
     "output_type": "execute_result"
    }
   ],
   "source": [
    "##对某一个数据进行排序\n",
    "df = pd.DataFrame(np.random.randint(1,10,(4,4)),columns = list(\"dcba\"))\n",
    "arr = pd.Series([3,1,2,5,8,4])\n",
    "#对DataFrame的某个列的值大小进行排序 或 对Series的值进行排序\n",
    "df.sort_values(by = \"a\")  \n",
    "arr.sort_values()\n",
    "#对DataFrame,Series的值大小标注序号，类似 np.argsort()\n",
    "df.rank(axis=1,method=\"average\")    #method参数有很多种 min,max,first"
   ]
  },
  {
   "cell_type": "code",
   "execution_count": null,
   "metadata": {
    "collapsed": false
   },
   "outputs": [],
   "source": []
  },
  {
   "cell_type": "code",
   "execution_count": null,
   "metadata": {
    "collapsed": true
   },
   "outputs": [],
   "source": []
  }
 ],
 "metadata": {
  "kernelspec": {
   "display_name": "Python 3",
   "language": "python",
   "name": "python3"
  },
  "language_info": {
   "codemirror_mode": {
    "name": "ipython",
    "version": 3
   },
   "file_extension": ".py",
   "mimetype": "text/x-python",
   "name": "python",
   "nbconvert_exporter": "python",
   "pygments_lexer": "ipython3",
   "version": "3.5.1"
  }
 },
 "nbformat": 4,
 "nbformat_minor": 0
}
