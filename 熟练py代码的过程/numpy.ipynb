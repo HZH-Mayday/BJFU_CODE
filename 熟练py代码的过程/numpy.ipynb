{
 "cells": [
  {
   "cell_type": "code",
   "execution_count": 2,
   "metadata": {
    "collapsed": false
   },
   "outputs": [
    {
     "name": "stdout",
     "output_type": "stream",
     "text": [
      "[12 15 18 21] [ 6 22 38]\n"
     ]
    }
   ],
   "source": [
    "#聚合函数\n",
    "#可以直接用 np.sum(),或者 data.sum().\n",
    "#参数 axis=0 表示行聚合\n",
    "import numpy as np\n",
    "data = np.arange(12).reshape(3,4)\n",
    "print data.sum(axis = 0),data.sum(axis = 1)"
   ]
  },
  {
   "cell_type": "code",
   "execution_count": 4,
   "metadata": {
    "collapsed": false
   },
   "outputs": [
    {
     "name": "stdout",
     "output_type": "stream",
     "text": [
      "2.75 5.5 8.25\n"
     ]
    }
   ],
   "source": [
    "#类似的聚合函数还有 prod(积)，argmin(最小元素的索引)，mean(均值)，std(标准差)，var(方差)，median(中位数).percentile(分位数)\n",
    "#最好还是用 np.prob 防止出错\n",
    "#若忽略空值的话，直接在函数前面加上\"nan\",  np.nansum()\n",
    "print np.percentile(data,25),np.median(data),np.percentile(data,75)   #四分位数"
   ]
  },
  {
   "cell_type": "code",
   "execution_count": 5,
   "metadata": {
    "collapsed": false
   },
   "outputs": [
    {
     "data": {
      "text/plain": [
       "True"
      ]
     },
     "execution_count": 5,
     "metadata": {},
     "output_type": "execute_result"
    }
   ],
   "source": [
    "#聚合函数还有  np.all() 检验所有的值是否是都是True，np.any() 检验在所有条件中是否有True\n",
    "np.all(data==3)  #检验是否所有数据都等于3\n",
    "np.any(data==3)  #检验是否有数据等于3"
   ]
  },
  {
   "cell_type": "code",
   "execution_count": 7,
   "metadata": {
    "collapsed": false
   },
   "outputs": [
    {
     "data": {
      "text/plain": [
       "array([ 0.,  0.,  1.,  2.,  3.,  0.,  0.,  0.,  0.,  0.])"
      ]
     },
     "execution_count": 7,
     "metadata": {},
     "output_type": "execute_result"
    }
   ],
   "source": [
    "#花式索引\n",
    "#可以累加的方法\n",
    "#在x索引上，对应的a加1\n",
    "a = np.zeros(10)\n",
    "x = [2,3,3,4,4,4]  #索引\n",
    "np.add.at(a,x,1)   #对应的索引分别加一\n",
    "a"
   ]
  },
  {
   "cell_type": "code",
   "execution_count": 10,
   "metadata": {
    "collapsed": false
   },
   "outputs": [
    {
     "data": {
      "text/plain": [
       "(array([  0.,  10.,  20.,  30.,  40.]),\n",
       " array([  0.00000000e+00,   0.00000000e+00,   1.00000000e+00,\n",
       "          0.00000000e+00,   3.20000000e+01,   0.00000000e+00,\n",
       "          2.43000000e+02,   0.00000000e+00,   1.02400000e+03,\n",
       "          0.00000000e+00]))"
      ]
     },
     "execution_count": 10,
     "metadata": {},
     "output_type": "execute_result"
    }
   ],
   "source": [
    "#指定输出，在数据量大的情况下使用\n",
    "#不用生成临时数组，直接储存在y中\n",
    "x = np.arange(5)\n",
    "y = np.empty(5)\n",
    "z = np.zeros(10)\n",
    "np.multiply(x,10,out = y)\n",
    "np.power(x,5,out = z[::2])  #储存在z中，每隔两个元素\n",
    "y,z"
   ]
  },
  {
   "cell_type": "code",
   "execution_count": 11,
   "metadata": {
    "collapsed": false
   },
   "outputs": [
    {
     "data": {
      "text/plain": [
       "array([1, 2, 3, 5, 6])"
      ]
     },
     "execution_count": 11,
     "metadata": {},
     "output_type": "execute_result"
    }
   ],
   "source": [
    "#numpy排序\n",
    "x = np.array([5,3,6,1,2])\n",
    "np.sort(x)    #返回一个排好序的数组，不改变原数组\n",
    "index = np.argsort(x)     #返回排好序后元素的索引\n",
    "x[index]     #同样返回一个排好序的数组"
   ]
  },
  {
   "cell_type": "code",
   "execution_count": 15,
   "metadata": {
    "collapsed": false
   },
   "outputs": [
    {
     "data": {
      "text/plain": [
       "(array([7, 5, 8, 7, 5, 6, 1, 2, 2, 8]), array([2, 1, 2, 5, 5, 6, 7, 7, 8, 8]))"
      ]
     },
     "execution_count": 15,
     "metadata": {},
     "output_type": "execute_result"
    }
   ],
   "source": [
    "#分隔\n",
    "data = np.random.randint(0,10,(4,5))\n",
    "data,np.partition(data,2,axis=1)    #每一行的前两个数字是这一行的最小的两个值\n",
    "data1 = np.random.randint(0,10,10)\n",
    "data1,np.partition(data1,3)    #数组中前三个元素就是最小的三个元素"
   ]
  },
  {
   "cell_type": "code",
   "execution_count": null,
   "metadata": {
    "collapsed": true
   },
   "outputs": [],
   "source": []
  }
 ],
 "metadata": {
  "kernelspec": {
   "display_name": "Python 3",
   "language": "python",
   "name": "python3"
  },
  "language_info": {
   "codemirror_mode": {
    "name": "ipython",
    "version": 3
   },
   "file_extension": ".py",
   "mimetype": "text/x-python",
   "name": "python",
   "nbconvert_exporter": "python",
   "pygments_lexer": "ipython3",
   "version": "3.5.1"
  }
 },
 "nbformat": 4,
 "nbformat_minor": 0
}
