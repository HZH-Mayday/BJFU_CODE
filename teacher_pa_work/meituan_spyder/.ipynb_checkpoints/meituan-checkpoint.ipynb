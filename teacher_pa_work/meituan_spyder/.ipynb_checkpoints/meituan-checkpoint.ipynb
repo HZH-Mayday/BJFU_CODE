{
 "cells": [
  {
   "cell_type": "code",
   "execution_count": 5,
   "metadata": {},
   "outputs": [],
   "source": [
    "# -*- coding:utf-8 -*-\n",
    "import pandas as pd\n",
    "import numpy as np\n",
    "from bs4 import BeautifulSoup\n",
    "import requests\n",
    "import json\n",
    "import matplotlib.pyplot as plt\n",
    "from pprint import pprint\n",
    "%matplotlib inline"
   ]
  },
  {
   "cell_type": "code",
   "execution_count": 3,
   "metadata": {
    "code_folding": [
     0
    ]
   },
   "outputs": [],
   "source": [
    "def meituan_spyder(url, ):\n",
    "    '''\n",
    "    读取美团的评价的打分和评论\n",
    "    :param url: (String) 美图品佳的链接\n",
    "    :return:\n",
    "    '''\n",
    "    return_dict = {\"star\":[], \"comment\":[], \"tag_count_df\":0 }\n",
    "    headers = {'User-Agent': 'Mozilla/5.0 (Windows NT 10.0; WOW64) Chrome/50.0.2661.102',}\n",
    "    html = requests.get(url, headers=headers).text  # 读取页面的信息\n",
    "    all_info = BeautifulSoup(html, 'html5lib').find(\"body\").string\n",
    "    info_dict = json.loads(all_info)\n",
    "    # pprint(info_dict)\n",
    "\n",
    "    # 提取打分和评论\n",
    "    comments = info_dict[\"comments\"]\n",
    "    for pearson in comments:\n",
    "        star = pearson[\"star\"]\n",
    "        comment = pearson[\"comment\"]\n",
    "        return_dict[\"star\"].append(star)\n",
    "        return_dict[\"comment\"].append(comment)\n",
    "\n",
    "    # 提取标签和文字\n",
    "    tag_count = np.array([[d[\"count\"], d[\"tag\"]] for d in info_dict[\"tags\"]])\n",
    "    tag_count_df = pd.DataFrame(tag_count, columns=[\"count\", \"tag\"])\n",
    "    return_dict[\"tag_count_df\"] = tag_count_df\n",
    "\n",
    "    # 评论信息读取\n",
    "    return return_dict"
   ]
  },
  {
   "cell_type": "code",
   "execution_count": 4,
   "metadata": {},
   "outputs": [
    {
     "data": {
      "text/html": [
       "<div>\n",
       "<style scoped>\n",
       "    .dataframe tbody tr th:only-of-type {\n",
       "        vertical-align: middle;\n",
       "    }\n",
       "\n",
       "    .dataframe tbody tr th {\n",
       "        vertical-align: top;\n",
       "    }\n",
       "\n",
       "    .dataframe thead th {\n",
       "        text-align: right;\n",
       "    }\n",
       "</style>\n",
       "<table border=\"1\" class=\"dataframe\">\n",
       "  <thead>\n",
       "    <tr style=\"text-align: right;\">\n",
       "      <th></th>\n",
       "      <th>count</th>\n",
       "      <th>tag</th>\n",
       "    </tr>\n",
       "  </thead>\n",
       "  <tbody>\n",
       "    <tr>\n",
       "      <th>0</th>\n",
       "      <td>394</td>\n",
       "      <td>环境优雅</td>\n",
       "    </tr>\n",
       "    <tr>\n",
       "      <th>1</th>\n",
       "      <td>139</td>\n",
       "      <td>地方赞</td>\n",
       "    </tr>\n",
       "    <tr>\n",
       "      <th>2</th>\n",
       "      <td>102</td>\n",
       "      <td>人气旺</td>\n",
       "    </tr>\n",
       "    <tr>\n",
       "      <th>3</th>\n",
       "      <td>76</td>\n",
       "      <td>干净卫生</td>\n",
       "    </tr>\n",
       "    <tr>\n",
       "      <th>4</th>\n",
       "      <td>65</td>\n",
       "      <td>停车方便</td>\n",
       "    </tr>\n",
       "    <tr>\n",
       "      <th>5</th>\n",
       "      <td>64</td>\n",
       "      <td>场地赞</td>\n",
       "    </tr>\n",
       "    <tr>\n",
       "      <th>6</th>\n",
       "      <td>7</td>\n",
       "      <td>交通便利</td>\n",
       "    </tr>\n",
       "    <tr>\n",
       "      <th>7</th>\n",
       "      <td>3</td>\n",
       "      <td>水干净</td>\n",
       "    </tr>\n",
       "    <tr>\n",
       "      <th>8</th>\n",
       "      <td>3</td>\n",
       "      <td>项目少</td>\n",
       "    </tr>\n",
       "    <tr>\n",
       "      <th>9</th>\n",
       "      <td>3</td>\n",
       "      <td>水脏</td>\n",
       "    </tr>\n",
       "  </tbody>\n",
       "</table>\n",
       "</div>"
      ],
      "text/plain": [
       "   count   tag\n",
       "0    394  环境优雅\n",
       "1    139   地方赞\n",
       "2    102   人气旺\n",
       "3     76  干净卫生\n",
       "4     65  停车方便\n",
       "5     64   场地赞\n",
       "6      7  交通便利\n",
       "7      3   水干净\n",
       "8      3   项目少\n",
       "9      3    水脏"
      ]
     },
     "execution_count": 4,
     "metadata": {},
     "output_type": "execute_result"
    }
   ],
   "source": [
    "url=\"https://www.meituan.com/ptapi/poi/getcomment?id=1679122&offset=0&pageSize=10&mode=0&sortType=1\"\n",
    "return_dict = meituan_spyder(url)\n",
    "df = return_dict[\"tag_count_df\"]\n",
    "df[\"count\"] = df[\"count\"].apply(np.int)\n",
    "df"
   ]
  },
  {
   "cell_type": "code",
   "execution_count": 13,
   "metadata": {},
   "outputs": [
    {
     "data": {
      "image/png": "[encoded data removed]",
      "text/plain": [
       "<Figure size 432x288 with 1 Axes>"
      ]
     },
     "metadata": {},
     "output_type": "display_data"
    }
   ],
   "source": [
    "fig, ax = plt.subplots()\n",
    "plt.style.use(\"ggplot\")\n",
    "df.plot(kind=\"barh\", x=\"tag\", y=\"count\", ax=ax)\n",
    "ax.set(title=\"标签的条形统计图\", xlabel=\"评论标签\", ylabel=\"评论人数\", xlim=[0,400])\n",
    "ax.legend().set_visible(False)"
   ]
  },
  {
   "cell_type": "code",
   "execution_count": null,
   "metadata": {},
   "outputs": [],
   "source": []
  }
 ],
 "metadata": {
  "kernelspec": {
   "display_name": "Python 3",
   "language": "python",
   "name": "python3"
  },
  "language_info": {
   "codemirror_mode": {
    "name": "ipython",
    "version": 3
   },
   "file_extension": ".py",
   "mimetype": "text/x-python",
   "name": "python",
   "nbconvert_exporter": "python",
   "pygments_lexer": "ipython3",
   "version": "3.7.0"
  }
 },
 "nbformat": 4,
 "nbformat_minor": 2
}
