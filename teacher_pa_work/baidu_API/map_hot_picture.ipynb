{
 "cells": [
  {
   "cell_type": "code",
   "execution_count": 1,
   "metadata": {},
   "outputs": [],
   "source": [
    "import pandas as pd\n",
    "import numpy as np\n",
    "import matplotlib.pyplot as plt\n",
    "from bs4 import BeautifulSoup\n",
    "from urllib import request\n",
    "import codecs\n",
    "import re\n",
    "%matplotlib inline"
   ]
  },
  {
   "cell_type": "code",
   "execution_count": 2,
   "metadata": {
    "code_folding": []
   },
   "outputs": [
    {
     "name": "stdout",
     "output_type": "stream",
     "text": [
      "﻿<!DOCTYPE html>\r\n",
      "<html>\r\n",
      "<head>\r\n",
      "\t<meta http-equiv=\"Content-Type\" content=\"text/html; charset=utf-8\" />\r\n",
      "\t<meta name=\"viewport\" content=\"initial-scale=1.0, user-scalable=no\" />\r\n",
      "\t<style type=\"text/css\">\r\n",
      "\t\tbody, html,#allmap {width: 100%;height: 100%;overflow: hidden;margin:0;font-family:\"微软雅黑\";}\r\n",
      "\t</style>\r\n",
      "\t<script type=\"text/javascript\" src=\"http://api.map.baidu.com/api?v=2.0&ak=FKKa38B0y8Aygzo5gv5ypw374fBg0Vf2\"></script>\r\n",
      "\t<title>文本标注</title>\r\n",
      "</head>\r\n",
      "<body>\r\n",
      "\t<div id=\"allmap\"></div>\r\n",
      "</body>\r\n",
      "</html>\r\n",
      "<script type=\"text/javascript\">\r\n",
      "\t// 百度地图API功能\r\n",
      "\tvar map = new BMap.Map(\"allmap\");\r\n",
      "\tvar point = new BMap.Point(116.417854,39.921988);\r\n",
      "\tmap.centerAndZoom(point, 15);\r\n",
      "\tvar opts = {\r\n",
      "\t  position : point,    // 指定文本标注所在的地理位置\r\n",
      "\t  offset   : new BMap.Size(30, -30)    //设置文本偏移量\r\n",
      "\t}\r\n",
      "\tvar label = new BMap.Label(\"欢迎使用百度地图，这是一个简单的文本标注哦~\", opts);  // 创建文本标注对象\r\n",
      "\t\tlabel.setStyle({\r\n",
      "\t\t\t color : \"blue\",\r\n",
      "\t\t\t fontSize : \"12px\",\r\n",
      "\t\t\t height : \"20px\",\r\n",
      "\t\t\t lineHeight : \"20px\",\r\n",
      "\t\t\t fontFamily:\"微软雅黑\"\r\n",
      "\t\t });\r\n",
      "\tmap.addOverlay(label);   \r\n",
      "</script>\n"
     ]
    }
   ],
   "source": [
    "with open(\"C:/Users/HuZheHui/Desktop/API.html\", \"r+\", encoding=\"utf-8\", newline=\"\") as html:\n",
    "    text = html.read()\n",
    "    print(text)"
   ]
  },
  {
   "cell_type": "code",
   "execution_count": null,
   "metadata": {},
   "outputs": [],
   "source": []
  },
  {
   "cell_type": "code",
   "execution_count": null,
   "metadata": {},
   "outputs": [],
   "source": []
  }
 ],
 "metadata": {
  "kernelspec": {
   "display_name": "Python 3",
   "language": "python",
   "name": "python3"
  },
  "language_info": {
   "codemirror_mode": {
    "name": "ipython",
    "version": 3
   },
   "file_extension": ".py",
   "mimetype": "text/x-python",
   "name": "python",
   "nbconvert_exporter": "python",
   "pygments_lexer": "ipython3",
   "version": "3.7.0"
  }
 },
 "nbformat": 4,
 "nbformat_minor": 2
}
