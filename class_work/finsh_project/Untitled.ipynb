{
 "cells": [
  {
   "cell_type": "code",
   "execution_count": 1,
   "metadata": {},
   "outputs": [],
   "source": [
    "import pandas as pd\n",
    "import numpy as np\n",
    "import matplotlib.pyplot as plt\n",
    "%matplotlib inline"
   ]
  },
  {
   "cell_type": "code",
   "execution_count": 13,
   "metadata": {},
   "outputs": [],
   "source": [
    "## 读取数据\n",
    "fish = pd.read_csv(\"./DoubsSpe.csv\", encoding=\"utf-8\", index_col=0)\n",
    "ax = pd.read_csv(\"./DoubsSpa.csv\", encoding=\"utf-8\", index_col=0)\n",
    "env = pd.read_csv(\"./DoubsEnv.csv\", encoding=\"utf-8\", index_col=0)"
   ]
  },
  {
   "cell_type": "code",
   "execution_count": 23,
   "metadata": {},
   "outputs": [],
   "source": [
    "## 衡量群落多样性\n",
    "def count_finsh_type(sample):\n",
    "    fish_type_list = [1 if f != 0 else 0 for f in sample]\n",
    "    fish_type_count = np.sum(fish_type_list)\n",
    "    return fish_type_count\n",
    "\n",
    "fish_type_count = list(map(count_finsh_type, [list(fish.iloc[i, :]) for i in range(len(fish))]))"
   ]
  },
  {
   "cell_type": "code",
   "execution_count": 26,
   "metadata": {},
   "outputs": [],
   "source": [
    "env[\"type_count\"] = fish_type_count\n",
    "corr_mat = env.corr()    # 计算相关系数矩阵, 根据计算结果得到相关系数大的变量"
   ]
  },
  {
   "cell_type": "code",
   "execution_count": 30,
   "metadata": {},
   "outputs": [
    {
     "data": {
      "text/plain": [
       "array([ 8.32587919, -0.33254976, -1.44450968, -1.57936802])"
      ]
     },
     "execution_count": 30,
     "metadata": {},
     "output_type": "execute_result"
    }
   ],
   "source": [
    "## 建立多元回归分析模型\n",
    "from sklearn.preprocessing import StandardScaler\n",
    "from sklearn.linear_model import LinearRegression\n",
    "\n",
    "X = StandardScaler().fit_transform(env[[\"das\", \"flo\", \"har\", \"nit\"]])\n",
    "y = env[\"type_count\"]\n",
    "model = LinearRegression().fit(X, y)\n",
    "model.score(X, y)\n",
    "model.coef_"
   ]
  },
  {
   "cell_type": "code",
   "execution_count": 33,
   "metadata": {},
   "outputs": [],
   "source": [
    "pd.concat([ax ,env], axis=1).to_excel(r\"C:\\Users\\HuZheHui\\Desktop\\data.xls\", encoding=\"utf-8\", index=False)"
   ]
  },
  {
   "cell_type": "markdown",
   "metadata": {},
   "source": [
    "### 画图"
   ]
  },
  {
   "cell_type": "code",
   "execution_count": 14,
   "metadata": {},
   "outputs": [
    {
     "data": {
      "text/html": [
       "<div>\n",
       "<style scoped>\n",
       "    .dataframe tbody tr th:only-of-type {\n",
       "        vertical-align: middle;\n",
       "    }\n",
       "\n",
       "    .dataframe tbody tr th {\n",
       "        vertical-align: top;\n",
       "    }\n",
       "\n",
       "    .dataframe thead th {\n",
       "        text-align: right;\n",
       "    }\n",
       "</style>\n",
       "<table border=\"1\" class=\"dataframe\">\n",
       "  <thead>\n",
       "    <tr style=\"text-align: right;\">\n",
       "      <th></th>\n",
       "      <th>X</th>\n",
       "      <th>Y</th>\n",
       "      <th>das</th>\n",
       "      <th>alt</th>\n",
       "      <th>slo</th>\n",
       "      <th>flo</th>\n",
       "      <th>pH</th>\n",
       "      <th>har</th>\n",
       "      <th>pho</th>\n",
       "      <th>nit</th>\n",
       "      <th>amm</th>\n",
       "      <th>oxy</th>\n",
       "      <th>bod</th>\n",
       "      <th>type_count</th>\n",
       "    </tr>\n",
       "  </thead>\n",
       "  <tbody>\n",
       "    <tr>\n",
       "      <th>0</th>\n",
       "      <td>85.678</td>\n",
       "      <td>20.000</td>\n",
       "      <td>0.3</td>\n",
       "      <td>934</td>\n",
       "      <td>48.0</td>\n",
       "      <td>0.84</td>\n",
       "      <td>7.9</td>\n",
       "      <td>45</td>\n",
       "      <td>0.01</td>\n",
       "      <td>0.20</td>\n",
       "      <td>0.00</td>\n",
       "      <td>12.2</td>\n",
       "      <td>2.7</td>\n",
       "      <td>1</td>\n",
       "    </tr>\n",
       "    <tr>\n",
       "      <th>1</th>\n",
       "      <td>84.955</td>\n",
       "      <td>20.100</td>\n",
       "      <td>2.2</td>\n",
       "      <td>932</td>\n",
       "      <td>3.0</td>\n",
       "      <td>1.00</td>\n",
       "      <td>8.0</td>\n",
       "      <td>40</td>\n",
       "      <td>0.02</td>\n",
       "      <td>0.20</td>\n",
       "      <td>0.10</td>\n",
       "      <td>10.3</td>\n",
       "      <td>1.9</td>\n",
       "      <td>3</td>\n",
       "    </tr>\n",
       "    <tr>\n",
       "      <th>2</th>\n",
       "      <td>92.301</td>\n",
       "      <td>23.796</td>\n",
       "      <td>10.2</td>\n",
       "      <td>914</td>\n",
       "      <td>3.7</td>\n",
       "      <td>1.80</td>\n",
       "      <td>8.3</td>\n",
       "      <td>52</td>\n",
       "      <td>0.05</td>\n",
       "      <td>0.22</td>\n",
       "      <td>0.05</td>\n",
       "      <td>10.5</td>\n",
       "      <td>3.5</td>\n",
       "      <td>4</td>\n",
       "    </tr>\n",
       "    <tr>\n",
       "      <th>3</th>\n",
       "      <td>91.280</td>\n",
       "      <td>26.431</td>\n",
       "      <td>18.5</td>\n",
       "      <td>854</td>\n",
       "      <td>3.2</td>\n",
       "      <td>2.53</td>\n",
       "      <td>8.0</td>\n",
       "      <td>72</td>\n",
       "      <td>0.10</td>\n",
       "      <td>0.21</td>\n",
       "      <td>0.00</td>\n",
       "      <td>11.0</td>\n",
       "      <td>1.3</td>\n",
       "      <td>8</td>\n",
       "    </tr>\n",
       "    <tr>\n",
       "      <th>4</th>\n",
       "      <td>92.005</td>\n",
       "      <td>29.163</td>\n",
       "      <td>21.5</td>\n",
       "      <td>849</td>\n",
       "      <td>2.3</td>\n",
       "      <td>2.64</td>\n",
       "      <td>8.1</td>\n",
       "      <td>84</td>\n",
       "      <td>0.38</td>\n",
       "      <td>0.52</td>\n",
       "      <td>0.20</td>\n",
       "      <td>8.0</td>\n",
       "      <td>6.2</td>\n",
       "      <td>11</td>\n",
       "    </tr>\n",
       "  </tbody>\n",
       "</table>\n",
       "</div>"
      ],
      "text/plain": [
       "        X       Y   das  alt   slo   flo   pH  har   pho   nit   amm   oxy  \\\n",
       "0  85.678  20.000   0.3  934  48.0  0.84  7.9   45  0.01  0.20  0.00  12.2   \n",
       "1  84.955  20.100   2.2  932   3.0  1.00  8.0   40  0.02  0.20  0.10  10.3   \n",
       "2  92.301  23.796  10.2  914   3.7  1.80  8.3   52  0.05  0.22  0.05  10.5   \n",
       "3  91.280  26.431  18.5  854   3.2  2.53  8.0   72  0.10  0.21  0.00  11.0   \n",
       "4  92.005  29.163  21.5  849   2.3  2.64  8.1   84  0.38  0.52  0.20   8.0   \n",
       "\n",
       "   bod  type_count  \n",
       "0  2.7           1  \n",
       "1  1.9           3  \n",
       "2  3.5           4  \n",
       "3  1.3           8  \n",
       "4  6.2          11  "
      ]
     },
     "execution_count": 14,
     "metadata": {},
     "output_type": "execute_result"
    }
   ],
   "source": [
    "import sys\n",
    "sys.path.append(\"../../\")\n",
    "import pandas as pd\n",
    "import numpy as np\n",
    "import matplotlib.pyplot as plt\n",
    "%matplotlib inline\n",
    "import seaborn as sns\n",
    "from matplotlib.font_manager import FontProperties\n",
    "myfont=FontProperties(fname=r'C:\\Windows\\Fonts\\simhei.ttf',size=14)\n",
    "sns.set(font=myfont.get_name(), palette=\"husl\")\n",
    "df = pd.read_excel(r\"C:\\Users\\HuZheHui\\Desktop\\data.xls\", encoding=\"utf-8\")\n",
    "df.head()"
   ]
  },
  {
   "cell_type": "code",
   "execution_count": 26,
   "metadata": {},
   "outputs": [
    {
     "data": {
      "image/png": "[encoded data removed]",
      "text/plain": [
       "<Figure size 432x288 with 1 Axes>"
      ]
     },
     "metadata": {},
     "output_type": "display_data"
    }
   ],
   "source": [
    "fig, ax = plt.subplots()\n",
    "df.plot.scatter(x=\"X\", y=\"Y\", s=df[\"type_count\"]*70, alpha=0.5, ax=ax)\n",
    "fig.savefig(\"C:/Users/HuZheHui/Desktop/1.svg\", transparent=False, dip=400, bbox_inches=\"tight\", format=\"svg\")"
   ]
  },
  {
   "cell_type": "code",
   "execution_count": 27,
   "metadata": {},
   "outputs": [
    {
     "data": {
      "image/png": "[encoded data removed]",
      "text/plain": [
       "<Figure size 432x288 with 1 Axes>"
      ]
     },
     "metadata": {},
     "output_type": "display_data"
    }
   ],
   "source": [
    "fig, ax = plt.subplots()\n",
    "df.plot.scatter(x=\"das\", y=\"slo\", s=df[\"type_count\"]*70, alpha=0.5, ax=ax)\n",
    "fig.savefig(\"C:/Users/HuZheHui/Desktop/2.svg\", transparent=False, dip=400, bbox_inches=\"tight\", format=\"svg\")"
   ]
  },
  {
   "cell_type": "code",
   "execution_count": null,
   "metadata": {},
   "outputs": [],
   "source": []
  }
 ],
 "metadata": {
  "kernelspec": {
   "display_name": "Python 3",
   "language": "python",
   "name": "python3"
  }
 },
 "nbformat": 4,
 "nbformat_minor": 2
}
